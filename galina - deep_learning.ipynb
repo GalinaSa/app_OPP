{
 "cells": [
  {
   "cell_type": "markdown",
   "id": "f1d3c1cf",
   "metadata": {},
   "source": [
    "# Deep Learning (RNN model)"
   ]
  },
  {
   "cell_type": "markdown",
   "id": "a03de3f7",
   "metadata": {},
   "source": [
    "## Imports"
   ]
  },
  {
   "cell_type": "code",
   "execution_count": 128,
   "id": "4898e294",
   "metadata": {},
   "outputs": [
    {
     "name": "stderr",
     "output_type": "stream",
     "text": [
      "2023-03-18 21:55:47.213144: I tensorflow/core/platform/cpu_feature_guard.cc:193] This TensorFlow binary is optimized with oneAPI Deep Neural Network Library (oneDNN) to use the following CPU instructions in performance-critical operations:  AVX2 AVX_VNNI FMA\n",
      "To enable them in other operations, rebuild TensorFlow with the appropriate compiler flags.\n",
      "2023-03-18 21:55:47.506834: I tensorflow/core/util/util.cc:169] oneDNN custom operations are on. You may see slightly different numerical results due to floating-point round-off errors from different computation orders. To turn them off, set the environment variable `TF_ENABLE_ONEDNN_OPTS=0`.\n",
      "2023-03-18 21:55:47.583287: W tensorflow/stream_executor/platform/default/dso_loader.cc:64] Could not load dynamic library 'libcudart.so.11.0'; dlerror: libcudart.so.11.0: cannot open shared object file: No such file or directory\n",
      "2023-03-18 21:55:47.583302: I tensorflow/stream_executor/cuda/cudart_stub.cc:29] Ignore above cudart dlerror if you do not have a GPU set up on your machine.\n",
      "2023-03-18 21:55:47.625377: E tensorflow/stream_executor/cuda/cuda_blas.cc:2981] Unable to register cuBLAS factory: Attempting to register factory for plugin cuBLAS when one has already been registered\n",
      "2023-03-18 21:55:48.417433: W tensorflow/stream_executor/platform/default/dso_loader.cc:64] Could not load dynamic library 'libnvinfer.so.7'; dlerror: libnvinfer.so.7: cannot open shared object file: No such file or directory\n",
      "2023-03-18 21:55:48.417513: W tensorflow/stream_executor/platform/default/dso_loader.cc:64] Could not load dynamic library 'libnvinfer_plugin.so.7'; dlerror: libnvinfer_plugin.so.7: cannot open shared object file: No such file or directory\n",
      "2023-03-18 21:55:48.417519: W tensorflow/compiler/tf2tensorrt/utils/py_utils.cc:38] TF-TRT Warning: Cannot dlopen some TensorRT libraries. If you would like to use Nvidia GPU with TensorRT, please make sure the missing libraries mentioned above are installed properly.\n"
     ]
    }
   ],
   "source": [
    "# DATA MANIPULATION, Visualization, and stats\n",
    "import pandas as pd\n",
    "from glob import glob\n",
    "import os\n",
    "import seaborn as sns\n",
    "import matplotlib.pyplot as plt\n",
    "%matplotlib inline\n",
    "import numpy as np\n",
    "from sklearn.preprocessing import MinMaxScaler\n",
    "\n",
    "# Deep Learning\n",
    "import tensorflow as tf"
   ]
  },
  {
   "cell_type": "code",
   "execution_count": 80,
   "id": "f599d64c",
   "metadata": {},
   "outputs": [
    {
     "data": {
      "text/plain": [
       "'/home/galinasamotorova/code/GalinaSa/Final-Project'"
      ]
     },
     "execution_count": 80,
     "metadata": {},
     "output_type": "execute_result"
    }
   ],
   "source": [
    "# Your current working directory should be ./mattwagon/oil_production_prediction/notebooks\n",
    "os.getcwd()"
   ]
  },
  {
   "cell_type": "markdown",
   "id": "0a1998a4",
   "metadata": {},
   "source": [
    "## Import the data"
   ]
  },
  {
   "cell_type": "code",
   "execution_count": 81,
   "id": "2c733ada",
   "metadata": {},
   "outputs": [],
   "source": [
    "# This filepath should work for all of us\n",
    "# I have added 'raw_data' to .gitignore so it should never be pushed to the repo\n",
    "path = 'data'\n",
    "file_names = os.listdir(path)\n",
    "csv_files = [f for f in file_names if f.endswith('.csv')]\n",
    "\n",
    "csv_files.sort()\n",
    "\n",
    "df = pd.DataFrame()\n",
    "\n",
    "for file in csv_files:\n",
    "    file_path = os.path.join(path, file)\n",
    "    df_aux = pd.read_csv(file_path)\n",
    "    df = pd.concat([df, df_aux], ignore_index=True)"
   ]
  },
  {
   "cell_type": "code",
   "execution_count": 82,
   "id": "e6355b03",
   "metadata": {},
   "outputs": [
    {
     "data": {
      "text/html": [
       "<div>\n",
       "<style scoped>\n",
       "    .dataframe tbody tr th:only-of-type {\n",
       "        vertical-align: middle;\n",
       "    }\n",
       "\n",
       "    .dataframe tbody tr th {\n",
       "        vertical-align: top;\n",
       "    }\n",
       "\n",
       "    .dataframe thead th {\n",
       "        text-align: right;\n",
       "    }\n",
       "</style>\n",
       "<table border=\"1\" class=\"dataframe\">\n",
       "  <thead>\n",
       "    <tr style=\"text-align: right;\">\n",
       "      <th></th>\n",
       "      <th>Date</th>\n",
       "      <th>Calculated Drawdown_At Gauge</th>\n",
       "      <th>Calculated Drawdown_At Bottom Node</th>\n",
       "      <th>Reservoir Pressure</th>\n",
       "      <th>z Well Identifier</th>\n",
       "      <th>z TMore PS Identifier</th>\n",
       "      <th>z TMore Identifier</th>\n",
       "      <th>z Tag Identifier 2</th>\n",
       "      <th>z Tag Identifier</th>\n",
       "      <th>z PI-AF Database</th>\n",
       "      <th>...</th>\n",
       "      <th>Annulus Master Valve Status</th>\n",
       "      <th>Annulus Master Valve Opening Frequency</th>\n",
       "      <th>Pseudo Cv</th>\n",
       "      <th>GL GOR</th>\n",
       "      <th>GL Qgas</th>\n",
       "      <th>GL Qliq</th>\n",
       "      <th>GL Qoil</th>\n",
       "      <th>GL Qwat</th>\n",
       "      <th>GL Ramp-up Speed</th>\n",
       "      <th>GL WCT</th>\n",
       "    </tr>\n",
       "  </thead>\n",
       "  <tbody>\n",
       "    <tr>\n",
       "      <th>0</th>\n",
       "      <td>2007-02-01 00:00:00+01:00</td>\n",
       "      <td>NaN</td>\n",
       "      <td>NaN</td>\n",
       "      <td>186.34</td>\n",
       "      <td>30221</td>\n",
       "      <td>NaN</td>\n",
       "      <td>NaN</td>\n",
       "      <td>1</td>\n",
       "      <td>3022</td>\n",
       "      <td>NaN</td>\n",
       "      <td>...</td>\n",
       "      <td>NaN</td>\n",
       "      <td>NaN</td>\n",
       "      <td>NaN</td>\n",
       "      <td>52.5</td>\n",
       "      <td>90.0</td>\n",
       "      <td>32300.0</td>\n",
       "      <td>10960.0</td>\n",
       "      <td>21360.0</td>\n",
       "      <td>NaN</td>\n",
       "      <td>66.08</td>\n",
       "    </tr>\n",
       "    <tr>\n",
       "      <th>1</th>\n",
       "      <td>2007-02-02 00:00:00+01:00</td>\n",
       "      <td>NaN</td>\n",
       "      <td>NaN</td>\n",
       "      <td>186.34</td>\n",
       "      <td>30221</td>\n",
       "      <td>NaN</td>\n",
       "      <td>NaN</td>\n",
       "      <td>1</td>\n",
       "      <td>3022</td>\n",
       "      <td>NaN</td>\n",
       "      <td>...</td>\n",
       "      <td>NaN</td>\n",
       "      <td>NaN</td>\n",
       "      <td>NaN</td>\n",
       "      <td>52.5</td>\n",
       "      <td>90.0</td>\n",
       "      <td>32300.0</td>\n",
       "      <td>10960.0</td>\n",
       "      <td>21360.0</td>\n",
       "      <td>NaN</td>\n",
       "      <td>66.08</td>\n",
       "    </tr>\n",
       "    <tr>\n",
       "      <th>2</th>\n",
       "      <td>2007-02-03 00:00:00+01:00</td>\n",
       "      <td>NaN</td>\n",
       "      <td>NaN</td>\n",
       "      <td>186.34</td>\n",
       "      <td>30221</td>\n",
       "      <td>NaN</td>\n",
       "      <td>NaN</td>\n",
       "      <td>1</td>\n",
       "      <td>3022</td>\n",
       "      <td>NaN</td>\n",
       "      <td>...</td>\n",
       "      <td>NaN</td>\n",
       "      <td>NaN</td>\n",
       "      <td>NaN</td>\n",
       "      <td>52.5</td>\n",
       "      <td>90.0</td>\n",
       "      <td>32300.0</td>\n",
       "      <td>10960.0</td>\n",
       "      <td>21360.0</td>\n",
       "      <td>NaN</td>\n",
       "      <td>66.08</td>\n",
       "    </tr>\n",
       "    <tr>\n",
       "      <th>3</th>\n",
       "      <td>2007-02-04 00:00:00+01:00</td>\n",
       "      <td>NaN</td>\n",
       "      <td>NaN</td>\n",
       "      <td>186.34</td>\n",
       "      <td>30221</td>\n",
       "      <td>NaN</td>\n",
       "      <td>NaN</td>\n",
       "      <td>1</td>\n",
       "      <td>3022</td>\n",
       "      <td>NaN</td>\n",
       "      <td>...</td>\n",
       "      <td>NaN</td>\n",
       "      <td>NaN</td>\n",
       "      <td>NaN</td>\n",
       "      <td>52.5</td>\n",
       "      <td>90.0</td>\n",
       "      <td>32300.0</td>\n",
       "      <td>10960.0</td>\n",
       "      <td>21360.0</td>\n",
       "      <td>NaN</td>\n",
       "      <td>66.08</td>\n",
       "    </tr>\n",
       "    <tr>\n",
       "      <th>4</th>\n",
       "      <td>2007-02-05 00:00:00+01:00</td>\n",
       "      <td>NaN</td>\n",
       "      <td>NaN</td>\n",
       "      <td>186.34</td>\n",
       "      <td>30221</td>\n",
       "      <td>NaN</td>\n",
       "      <td>NaN</td>\n",
       "      <td>1</td>\n",
       "      <td>3022</td>\n",
       "      <td>NaN</td>\n",
       "      <td>...</td>\n",
       "      <td>NaN</td>\n",
       "      <td>NaN</td>\n",
       "      <td>NaN</td>\n",
       "      <td>52.5</td>\n",
       "      <td>90.0</td>\n",
       "      <td>32300.0</td>\n",
       "      <td>10960.0</td>\n",
       "      <td>21360.0</td>\n",
       "      <td>NaN</td>\n",
       "      <td>66.08</td>\n",
       "    </tr>\n",
       "  </tbody>\n",
       "</table>\n",
       "<p>5 rows × 189 columns</p>\n",
       "</div>"
      ],
      "text/plain": [
       "                        Date  Calculated Drawdown_At Gauge  \\\n",
       "0  2007-02-01 00:00:00+01:00                           NaN   \n",
       "1  2007-02-02 00:00:00+01:00                           NaN   \n",
       "2  2007-02-03 00:00:00+01:00                           NaN   \n",
       "3  2007-02-04 00:00:00+01:00                           NaN   \n",
       "4  2007-02-05 00:00:00+01:00                           NaN   \n",
       "\n",
       "   Calculated Drawdown_At Bottom Node  Reservoir Pressure  z Well Identifier  \\\n",
       "0                                 NaN              186.34              30221   \n",
       "1                                 NaN              186.34              30221   \n",
       "2                                 NaN              186.34              30221   \n",
       "3                                 NaN              186.34              30221   \n",
       "4                                 NaN              186.34              30221   \n",
       "\n",
       "   z TMore PS Identifier  z TMore Identifier  z Tag Identifier 2  \\\n",
       "0                    NaN                 NaN                   1   \n",
       "1                    NaN                 NaN                   1   \n",
       "2                    NaN                 NaN                   1   \n",
       "3                    NaN                 NaN                   1   \n",
       "4                    NaN                 NaN                   1   \n",
       "\n",
       "   z Tag Identifier  z PI-AF Database  ...  Annulus Master Valve Status  \\\n",
       "0              3022               NaN  ...                          NaN   \n",
       "1              3022               NaN  ...                          NaN   \n",
       "2              3022               NaN  ...                          NaN   \n",
       "3              3022               NaN  ...                          NaN   \n",
       "4              3022               NaN  ...                          NaN   \n",
       "\n",
       "   Annulus Master Valve Opening Frequency  Pseudo Cv  GL GOR  GL Qgas  \\\n",
       "0                                     NaN        NaN    52.5     90.0   \n",
       "1                                     NaN        NaN    52.5     90.0   \n",
       "2                                     NaN        NaN    52.5     90.0   \n",
       "3                                     NaN        NaN    52.5     90.0   \n",
       "4                                     NaN        NaN    52.5     90.0   \n",
       "\n",
       "   GL Qliq  GL Qoil  GL Qwat  GL Ramp-up Speed  GL WCT  \n",
       "0  32300.0  10960.0  21360.0               NaN   66.08  \n",
       "1  32300.0  10960.0  21360.0               NaN   66.08  \n",
       "2  32300.0  10960.0  21360.0               NaN   66.08  \n",
       "3  32300.0  10960.0  21360.0               NaN   66.08  \n",
       "4  32300.0  10960.0  21360.0               NaN   66.08  \n",
       "\n",
       "[5 rows x 189 columns]"
      ]
     },
     "execution_count": 82,
     "metadata": {},
     "output_type": "execute_result"
    }
   ],
   "source": [
    "df.head()"
   ]
  },
  {
   "cell_type": "code",
   "execution_count": 83,
   "id": "b358ba87",
   "metadata": {},
   "outputs": [],
   "source": [
    "df['Date'] = pd.to_datetime(df['Date'])\n",
    "df['Date'] = df['Date'].dt.tz_convert(None)\n",
    "df['Date'] = pd.to_datetime(df['Date'].apply(lambda x: x + pd.DateOffset(hours=1)))"
   ]
  },
  {
   "cell_type": "markdown",
   "id": "33cdeed7",
   "metadata": {},
   "source": [
    "## Data cleaning"
   ]
  },
  {
   "cell_type": "markdown",
   "id": "6b733b21",
   "metadata": {},
   "source": [
    "### Drop features with all NaN and >30% NaN values"
   ]
  },
  {
   "cell_type": "code",
   "execution_count": 84,
   "id": "331b85ac",
   "metadata": {},
   "outputs": [
    {
     "data": {
      "text/plain": [
       "(5813, 65)"
      ]
     },
     "execution_count": 84,
     "metadata": {},
     "output_type": "execute_result"
    }
   ],
   "source": [
    "features_nan_drop = []\n",
    "\n",
    "for feature, value in dict(df.isnull().sum().sort_values(ascending=False)).items():\n",
    "    if value/len(df) > 0.3:\n",
    "        features_nan_drop.append(feature)\n",
    "        \n",
    "df.drop(columns=features_nan_drop, inplace=True)\n",
    "df.shape"
   ]
  },
  {
   "cell_type": "markdown",
   "id": "02ece710",
   "metadata": {},
   "source": [
    "### Drop features with std = 0"
   ]
  },
  {
   "cell_type": "code",
   "execution_count": 85,
   "id": "a6668af7",
   "metadata": {},
   "outputs": [
    {
     "data": {
      "text/plain": [
       "(5813, 41)"
      ]
     },
     "execution_count": 85,
     "metadata": {},
     "output_type": "execute_result"
    }
   ],
   "source": [
    "features_null_std = []\n",
    "\n",
    "for feature in df.drop(columns='Date').columns:\n",
    "    if df[feature].std() < 0.0000001:\n",
    "        features_null_std.append(feature)\n",
    "        \n",
    "df.drop(columns=features_null_std, inplace=True)\n",
    "\n",
    "df.shape"
   ]
  },
  {
   "cell_type": "markdown",
   "id": "07a0029c",
   "metadata": {},
   "source": [
    "### Drop corrected, 'choke' and correlated features, and from 'remove' dict"
   ]
  },
  {
   "cell_type": "code",
   "execution_count": 86,
   "id": "049d359a",
   "metadata": {},
   "outputs": [],
   "source": [
    "corrected_features_drop = ['Qwat MPFM corrected', 'Qoil MPFM corrected', 'Qliq MPFM corrected', 'Qgas MPFM corrected']\n",
    "df.drop(columns=corrected_features_drop, inplace=True)"
   ]
  },
  {
   "cell_type": "code",
   "execution_count": 87,
   "id": "3af06b9e",
   "metadata": {},
   "outputs": [],
   "source": [
    "choke_features_drop = ['Choke Opening Calc1', 'Choke Opening Calc2', 'Choke Measured', 'Choke Calculated', 'Choke CCR']\n",
    "df.drop(columns=choke_features_drop, inplace = True)"
   ]
  },
  {
   "cell_type": "code",
   "execution_count": 88,
   "id": "48a68fdf",
   "metadata": {},
   "outputs": [],
   "source": [
    "features_corr_drop = ['Qwat PC', 'Qgas PC', 'Qoil PC', 'Tubing dP','MPFM P', 'Qliq MPFM', 'Qwat MPFM']\n",
    "df.drop(columns=features_corr_drop, inplace = True)"
   ]
  },
  {
   "cell_type": "code",
   "execution_count": 89,
   "id": "660485c0",
   "metadata": {},
   "outputs": [],
   "source": [
    "remove = {\"Sand Rate\", \"MPFM NTotal Count Rate\", \"MPFM N81 Count Rate\", \"MPFM N356 Count Rate\", \"MPFM N32 Count Rate\", \"MPFM GOR\", \"Downhole Gauge T\", \"Downhole Gauge P\", \"Service Line P\", \"Manifold T\", \"Jumper T\"}\n",
    "df.drop(columns=remove, inplace=True)"
   ]
  },
  {
   "cell_type": "code",
   "execution_count": 90,
   "id": "5e7c930f",
   "metadata": {},
   "outputs": [
    {
     "data": {
      "text/plain": [
       "(5813, 14)"
      ]
     },
     "execution_count": 90,
     "metadata": {},
     "output_type": "execute_result"
    }
   ],
   "source": [
    "df.shape"
   ]
  },
  {
   "cell_type": "code",
   "execution_count": 91,
   "id": "d0d10f92",
   "metadata": {},
   "outputs": [
    {
     "data": {
      "image/png": "[encoded data removed]",
      "text/plain": [
       "<Figure size 640x480 with 2 Axes>"
      ]
     },
     "metadata": {},
     "output_type": "display_data"
    }
   ],
   "source": [
    "# Pairwise correlation\n",
    "sns.heatmap(df.corr(), cmap='RdBu')\n",
    "plt.show()"
   ]
  },
  {
   "cell_type": "markdown",
   "id": "bd3e71c2",
   "metadata": {},
   "source": [
    "## Impute features"
   ]
  },
  {
   "cell_type": "code",
   "execution_count": 92,
   "id": "2b058a9f",
   "metadata": {},
   "outputs": [],
   "source": [
    "for feature in df.columns:\n",
    "    df[feature].replace(np.nan, df[feature].median(), inplace=True)"
   ]
  },
  {
   "cell_type": "code",
   "execution_count": 93,
   "id": "ed854562",
   "metadata": {},
   "outputs": [
    {
     "data": {
      "text/plain": [
       "Date               0\n",
       "WHT                0\n",
       "WHP                0\n",
       "Tubing Gradient    0\n",
       "Sand Raw           0\n",
       "Qoil MPFM          0\n",
       "Qgas MPFM          0\n",
       "MPFM WCT           0\n",
       "MPFM Venturi dP    0\n",
       "MPFM T             0\n",
       "MPFM CF GOR        0\n",
       "Manifold P         0\n",
       "Choke Opening      0\n",
       "Annulus P          0\n",
       "dtype: int64"
      ]
     },
     "execution_count": 93,
     "metadata": {},
     "output_type": "execute_result"
    }
   ],
   "source": [
    "df.isnull().sum()"
   ]
  },
  {
   "cell_type": "code",
   "execution_count": 94,
   "id": "f827b717",
   "metadata": {},
   "outputs": [
    {
     "data": {
      "text/html": [
       "<div>\n",
       "<style scoped>\n",
       "    .dataframe tbody tr th:only-of-type {\n",
       "        vertical-align: middle;\n",
       "    }\n",
       "\n",
       "    .dataframe tbody tr th {\n",
       "        vertical-align: top;\n",
       "    }\n",
       "\n",
       "    .dataframe thead th {\n",
       "        text-align: right;\n",
       "    }\n",
       "</style>\n",
       "<table border=\"1\" class=\"dataframe\">\n",
       "  <thead>\n",
       "    <tr style=\"text-align: right;\">\n",
       "      <th></th>\n",
       "      <th>Date</th>\n",
       "      <th>WHT</th>\n",
       "      <th>WHP</th>\n",
       "      <th>Tubing Gradient</th>\n",
       "      <th>Sand Raw</th>\n",
       "      <th>Qoil MPFM</th>\n",
       "      <th>Qgas MPFM</th>\n",
       "      <th>MPFM WCT</th>\n",
       "      <th>MPFM Venturi dP</th>\n",
       "      <th>MPFM T</th>\n",
       "      <th>MPFM CF GOR</th>\n",
       "      <th>Manifold P</th>\n",
       "      <th>Choke Opening</th>\n",
       "      <th>Annulus P</th>\n",
       "    </tr>\n",
       "  </thead>\n",
       "  <tbody>\n",
       "    <tr>\n",
       "      <th>0</th>\n",
       "      <td>2007-02-01</td>\n",
       "      <td>51.247467</td>\n",
       "      <td>78.146263</td>\n",
       "      <td>0.0</td>\n",
       "      <td>5084.182129</td>\n",
       "      <td>14065.431937</td>\n",
       "      <td>127.717811</td>\n",
       "      <td>0.0</td>\n",
       "      <td>1672.997986</td>\n",
       "      <td>52.371239</td>\n",
       "      <td>1.0</td>\n",
       "      <td>69.046879</td>\n",
       "      <td>76.917267</td>\n",
       "      <td>150.246353</td>\n",
       "    </tr>\n",
       "    <tr>\n",
       "      <th>1</th>\n",
       "      <td>2007-02-02</td>\n",
       "      <td>51.247467</td>\n",
       "      <td>78.146263</td>\n",
       "      <td>0.0</td>\n",
       "      <td>5084.182129</td>\n",
       "      <td>14065.431937</td>\n",
       "      <td>127.717811</td>\n",
       "      <td>0.0</td>\n",
       "      <td>1672.997986</td>\n",
       "      <td>52.371239</td>\n",
       "      <td>1.0</td>\n",
       "      <td>69.046879</td>\n",
       "      <td>76.917267</td>\n",
       "      <td>150.246353</td>\n",
       "    </tr>\n",
       "    <tr>\n",
       "      <th>2</th>\n",
       "      <td>2007-02-03</td>\n",
       "      <td>51.247467</td>\n",
       "      <td>78.146263</td>\n",
       "      <td>0.0</td>\n",
       "      <td>5084.182129</td>\n",
       "      <td>14065.431937</td>\n",
       "      <td>127.717811</td>\n",
       "      <td>0.0</td>\n",
       "      <td>1672.997986</td>\n",
       "      <td>52.371239</td>\n",
       "      <td>1.0</td>\n",
       "      <td>69.046879</td>\n",
       "      <td>76.917267</td>\n",
       "      <td>150.246353</td>\n",
       "    </tr>\n",
       "    <tr>\n",
       "      <th>3</th>\n",
       "      <td>2007-02-04</td>\n",
       "      <td>51.247467</td>\n",
       "      <td>78.146263</td>\n",
       "      <td>0.0</td>\n",
       "      <td>5084.182129</td>\n",
       "      <td>14065.431937</td>\n",
       "      <td>127.717811</td>\n",
       "      <td>0.0</td>\n",
       "      <td>1672.997986</td>\n",
       "      <td>52.371239</td>\n",
       "      <td>1.0</td>\n",
       "      <td>69.046879</td>\n",
       "      <td>76.917267</td>\n",
       "      <td>150.246353</td>\n",
       "    </tr>\n",
       "    <tr>\n",
       "      <th>4</th>\n",
       "      <td>2007-02-05</td>\n",
       "      <td>51.247467</td>\n",
       "      <td>78.146263</td>\n",
       "      <td>0.0</td>\n",
       "      <td>5084.182129</td>\n",
       "      <td>14065.431937</td>\n",
       "      <td>127.717811</td>\n",
       "      <td>0.0</td>\n",
       "      <td>1672.997986</td>\n",
       "      <td>52.371239</td>\n",
       "      <td>1.0</td>\n",
       "      <td>69.046879</td>\n",
       "      <td>76.917267</td>\n",
       "      <td>150.246353</td>\n",
       "    </tr>\n",
       "  </tbody>\n",
       "</table>\n",
       "</div>"
      ],
      "text/plain": [
       "        Date        WHT        WHP  Tubing Gradient     Sand Raw  \\\n",
       "0 2007-02-01  51.247467  78.146263              0.0  5084.182129   \n",
       "1 2007-02-02  51.247467  78.146263              0.0  5084.182129   \n",
       "2 2007-02-03  51.247467  78.146263              0.0  5084.182129   \n",
       "3 2007-02-04  51.247467  78.146263              0.0  5084.182129   \n",
       "4 2007-02-05  51.247467  78.146263              0.0  5084.182129   \n",
       "\n",
       "      Qoil MPFM   Qgas MPFM  MPFM WCT  MPFM Venturi dP     MPFM T  \\\n",
       "0  14065.431937  127.717811       0.0      1672.997986  52.371239   \n",
       "1  14065.431937  127.717811       0.0      1672.997986  52.371239   \n",
       "2  14065.431937  127.717811       0.0      1672.997986  52.371239   \n",
       "3  14065.431937  127.717811       0.0      1672.997986  52.371239   \n",
       "4  14065.431937  127.717811       0.0      1672.997986  52.371239   \n",
       "\n",
       "   MPFM CF GOR  Manifold P  Choke Opening   Annulus P  \n",
       "0          1.0   69.046879      76.917267  150.246353  \n",
       "1          1.0   69.046879      76.917267  150.246353  \n",
       "2          1.0   69.046879      76.917267  150.246353  \n",
       "3          1.0   69.046879      76.917267  150.246353  \n",
       "4          1.0   69.046879      76.917267  150.246353  "
      ]
     },
     "execution_count": 94,
     "metadata": {},
     "output_type": "execute_result"
    }
   ],
   "source": [
    "df.head()"
   ]
  },
  {
   "cell_type": "markdown",
   "id": "e829af9a",
   "metadata": {},
   "source": [
    "## Feature selection"
   ]
  },
  {
   "cell_type": "code",
   "execution_count": 99,
   "id": "3112e397",
   "metadata": {},
   "outputs": [],
   "source": [
    "# starting the first model with 4 features only + our Target 'Qoil MPFM':\n",
    "\n",
    "df_f = df[[\"Date\",\"Qoil MPFM\",\"MPFM WCT\",\"Annulus P\", \"Tubing Gradient\", \"MPFM Venturi dP\"]].copy()"
   ]
  },
  {
   "cell_type": "code",
   "execution_count": 100,
   "id": "59b00b24",
   "metadata": {},
   "outputs": [
    {
     "data": {
      "text/plain": [
       "(5813, 6)"
      ]
     },
     "execution_count": 100,
     "metadata": {},
     "output_type": "execute_result"
    }
   ],
   "source": [
    "df_f.shape"
   ]
  },
  {
   "cell_type": "markdown",
   "id": "bbc951ce",
   "metadata": {},
   "source": [
    "## Visualizing Time Series"
   ]
  },
  {
   "cell_type": "code",
   "execution_count": 106,
   "id": "210e7901",
   "metadata": {},
   "outputs": [],
   "source": [
    "TARGET = 'Qoil MPFM'\n",
    "N_TARGETS = 1\n",
    "N_FEATURES = df_f.shape[1] - 1"
   ]
  },
  {
   "cell_type": "code",
   "execution_count": 109,
   "id": "534392d8",
   "metadata": {},
   "outputs": [
    {
     "data": {
      "image/png": "[encoded data removed]",
      "text/plain": [
       "<Figure size 640x480 with 5 Axes>"
      ]
     },
     "metadata": {},
     "output_type": "display_data"
    }
   ],
   "source": [
    "plot_cols = [TARGET, 'MPFM WCT','Annulus P', 'Tubing Gradient', 'MPFM Venturi dP']\n",
    "plot_features = df_f[plot_cols]\n",
    "plot_features.index = df_f.index\n",
    "plot_features.plot(subplots = True);"
   ]
  },
  {
   "cell_type": "code",
   "execution_count": 110,
   "id": "a2f11557",
   "metadata": {
    "scrolled": true
   },
   "outputs": [
    {
     "data": {
      "image/png": "[encoded data removed]",
      "text/plain": [
       "<Figure size 640x480 with 5 Axes>"
      ]
     },
     "metadata": {},
     "output_type": "display_data"
    }
   ],
   "source": [
    "zoomed_slice = slice(2000,3100)\n",
    "\n",
    "plot_features = df_f.loc[zoomed_slice, plot_cols]\n",
    "plot_features.plot(subplots = True);"
   ]
  },
  {
   "cell_type": "markdown",
   "id": "94d863ab",
   "metadata": {},
   "source": [
    "## Preparing the dataset"
   ]
  },
  {
   "cell_type": "code",
   "execution_count": 111,
   "id": "3ca6088b",
   "metadata": {},
   "outputs": [],
   "source": [
    "# --------------------------------------------------- #\n",
    "# Let's consider FOLDS with a length of 3 years       #\n",
    "# (2 years will be used for train, 1 for test!)       #\n",
    "# --------------------------------------------------- #\n",
    "\n",
    "FOLD_LENGTH = 365 * 3 # three years\n",
    "\n",
    "# --------------------------------------------------- #\n",
    "# Let's consider FOLDS starting every trimester       #\n",
    "# --------------------------------------------------- #\n",
    "    \n",
    "FOLD_STRIDE = 91 # 1 quarter = 91 days\n",
    "\n",
    "# --------------------------------------------------- #\n",
    "# Let's consider a train-test-split ratio of 2/3      #\n",
    "# --------------------------------------------------- #\n",
    "\n",
    "TRAIN_TEST_RATIO = 0.66"
   ]
  },
  {
   "cell_type": "code",
   "execution_count": 112,
   "id": "20acb628",
   "metadata": {},
   "outputs": [],
   "source": [
    "def get_folds(\n",
    "    df_f: pd.DataFrame,\n",
    "    fold_length: int,\n",
    "    fold_stride: int) -> list[pd.DataFrame]:\n",
    "    '''\n",
    "    This function slides through the Time Series dataframe of shape (n_timesteps, n_features) to create folds\n",
    "    - of equal `fold_length`\n",
    "    - using `fold_stride` between each fold\n",
    "    \n",
    "    Returns a list of folds, each as a DataFrame\n",
    "    '''\n",
    "    fold_list = []\n",
    "    \n",
    "    \n",
    "    for i in range(0, len(df_f), fold_stride):\n",
    "        if i + fold_length >= len(df_f):\n",
    "            break\n",
    "        fold_list.append(df_f[i:fold_length])\n",
    "    \n",
    "    return fold_list"
   ]
  },
  {
   "cell_type": "code",
   "execution_count": 113,
   "id": "09b2011b",
   "metadata": {},
   "outputs": [
    {
     "name": "stdout",
     "output_type": "stream",
     "text": [
      "The function generated 52 folds.\n",
      "Each fold has a shape equal to (1095, 6).\n"
     ]
    }
   ],
   "source": [
    "folds = get_folds(df_f, FOLD_LENGTH, FOLD_STRIDE)\n",
    "\n",
    "print(f'The function generated {len(folds)} folds.')\n",
    "print(f'Each fold has a shape equal to {folds[0].shape}.')"
   ]
  },
  {
   "cell_type": "markdown",
   "id": "014d8a90",
   "metadata": {},
   "source": [
    "### Temporal Train/Test split"
   ]
  },
  {
   "cell_type": "markdown",
   "id": "6d44f6dd",
   "metadata": {},
   "source": [
    "Let's focus on one fold"
   ]
  },
  {
   "cell_type": "code",
   "execution_count": 114,
   "id": "88584635",
   "metadata": {
    "scrolled": true
   },
   "outputs": [
    {
     "data": {
      "text/html": [
       "<div>\n",
       "<style scoped>\n",
       "    .dataframe tbody tr th:only-of-type {\n",
       "        vertical-align: middle;\n",
       "    }\n",
       "\n",
       "    .dataframe tbody tr th {\n",
       "        vertical-align: top;\n",
       "    }\n",
       "\n",
       "    .dataframe thead th {\n",
       "        text-align: right;\n",
       "    }\n",
       "</style>\n",
       "<table border=\"1\" class=\"dataframe\">\n",
       "  <thead>\n",
       "    <tr style=\"text-align: right;\">\n",
       "      <th></th>\n",
       "      <th>Date</th>\n",
       "      <th>Qoil MPFM</th>\n",
       "      <th>MPFM WCT</th>\n",
       "      <th>Annulus P</th>\n",
       "      <th>Tubing Gradient</th>\n",
       "      <th>MPFM Venturi dP</th>\n",
       "    </tr>\n",
       "  </thead>\n",
       "  <tbody>\n",
       "    <tr>\n",
       "      <th>0</th>\n",
       "      <td>2007-02-01</td>\n",
       "      <td>14065.431937</td>\n",
       "      <td>0.000000</td>\n",
       "      <td>150.246353</td>\n",
       "      <td>0.000000</td>\n",
       "      <td>1672.997986</td>\n",
       "    </tr>\n",
       "    <tr>\n",
       "      <th>1</th>\n",
       "      <td>2007-02-02</td>\n",
       "      <td>14065.431937</td>\n",
       "      <td>0.000000</td>\n",
       "      <td>150.246353</td>\n",
       "      <td>0.000000</td>\n",
       "      <td>1672.997986</td>\n",
       "    </tr>\n",
       "    <tr>\n",
       "      <th>2</th>\n",
       "      <td>2007-02-03</td>\n",
       "      <td>14065.431937</td>\n",
       "      <td>0.000000</td>\n",
       "      <td>150.246353</td>\n",
       "      <td>0.000000</td>\n",
       "      <td>1672.997986</td>\n",
       "    </tr>\n",
       "    <tr>\n",
       "      <th>3</th>\n",
       "      <td>2007-02-04</td>\n",
       "      <td>14065.431937</td>\n",
       "      <td>0.000000</td>\n",
       "      <td>150.246353</td>\n",
       "      <td>0.000000</td>\n",
       "      <td>1672.997986</td>\n",
       "    </tr>\n",
       "    <tr>\n",
       "      <th>4</th>\n",
       "      <td>2007-02-05</td>\n",
       "      <td>14065.431937</td>\n",
       "      <td>0.000000</td>\n",
       "      <td>150.246353</td>\n",
       "      <td>0.000000</td>\n",
       "      <td>1672.997986</td>\n",
       "    </tr>\n",
       "    <tr>\n",
       "      <th>...</th>\n",
       "      <td>...</td>\n",
       "      <td>...</td>\n",
       "      <td>...</td>\n",
       "      <td>...</td>\n",
       "      <td>...</td>\n",
       "      <td>...</td>\n",
       "    </tr>\n",
       "    <tr>\n",
       "      <th>1090</th>\n",
       "      <td>2010-01-26</td>\n",
       "      <td>23788.793743</td>\n",
       "      <td>16.810093</td>\n",
       "      <td>106.314453</td>\n",
       "      <td>0.692401</td>\n",
       "      <td>5000.000000</td>\n",
       "    </tr>\n",
       "    <tr>\n",
       "      <th>1091</th>\n",
       "      <td>2010-01-27</td>\n",
       "      <td>23831.706038</td>\n",
       "      <td>16.221851</td>\n",
       "      <td>106.136719</td>\n",
       "      <td>0.691799</td>\n",
       "      <td>5000.000000</td>\n",
       "    </tr>\n",
       "    <tr>\n",
       "      <th>1092</th>\n",
       "      <td>2010-01-28</td>\n",
       "      <td>22478.727202</td>\n",
       "      <td>17.043915</td>\n",
       "      <td>106.222321</td>\n",
       "      <td>0.673693</td>\n",
       "      <td>4833.718262</td>\n",
       "    </tr>\n",
       "    <tr>\n",
       "      <th>1093</th>\n",
       "      <td>2010-01-29</td>\n",
       "      <td>22362.401021</td>\n",
       "      <td>15.439603</td>\n",
       "      <td>106.204193</td>\n",
       "      <td>0.665585</td>\n",
       "      <td>4847.751953</td>\n",
       "    </tr>\n",
       "    <tr>\n",
       "      <th>1094</th>\n",
       "      <td>2010-01-30</td>\n",
       "      <td>0.000000</td>\n",
       "      <td>0.000000</td>\n",
       "      <td>92.202087</td>\n",
       "      <td>0.350634</td>\n",
       "      <td>82.570175</td>\n",
       "    </tr>\n",
       "  </tbody>\n",
       "</table>\n",
       "<p>1095 rows × 6 columns</p>\n",
       "</div>"
      ],
      "text/plain": [
       "           Date     Qoil MPFM   MPFM WCT   Annulus P  Tubing Gradient  \\\n",
       "0    2007-02-01  14065.431937   0.000000  150.246353         0.000000   \n",
       "1    2007-02-02  14065.431937   0.000000  150.246353         0.000000   \n",
       "2    2007-02-03  14065.431937   0.000000  150.246353         0.000000   \n",
       "3    2007-02-04  14065.431937   0.000000  150.246353         0.000000   \n",
       "4    2007-02-05  14065.431937   0.000000  150.246353         0.000000   \n",
       "...         ...           ...        ...         ...              ...   \n",
       "1090 2010-01-26  23788.793743  16.810093  106.314453         0.692401   \n",
       "1091 2010-01-27  23831.706038  16.221851  106.136719         0.691799   \n",
       "1092 2010-01-28  22478.727202  17.043915  106.222321         0.673693   \n",
       "1093 2010-01-29  22362.401021  15.439603  106.204193         0.665585   \n",
       "1094 2010-01-30      0.000000   0.000000   92.202087         0.350634   \n",
       "\n",
       "      MPFM Venturi dP  \n",
       "0         1672.997986  \n",
       "1         1672.997986  \n",
       "2         1672.997986  \n",
       "3         1672.997986  \n",
       "4         1672.997986  \n",
       "...               ...  \n",
       "1090      5000.000000  \n",
       "1091      5000.000000  \n",
       "1092      4833.718262  \n",
       "1093      4847.751953  \n",
       "1094        82.570175  \n",
       "\n",
       "[1095 rows x 6 columns]"
      ]
     },
     "execution_count": 114,
     "metadata": {},
     "output_type": "execute_result"
    }
   ],
   "source": [
    "fold = folds[0]\n",
    "fold"
   ]
  },
  {
   "cell_type": "markdown",
   "id": "69a6a126",
   "metadata": {},
   "source": [
    "☝️ We want to split this fold chronologically into:\n",
    "\n",
    "- train dataframe\n",
    "- test dataframe\n",
    "\n",
    "that will contain all the data we need to be able to sample many (X_i, y_i) pairs in each dataframe in a next step!\n",
    "\n",
    "The INPUT_LENGTH of each X_i is going to be equal to 2 weeks (*but we can change it*)"
   ]
  },
  {
   "cell_type": "code",
   "execution_count": 115,
   "id": "29ef7feb",
   "metadata": {},
   "outputs": [],
   "source": [
    "INPUT_LENGTH = 14 # two weeks"
   ]
  },
  {
   "cell_type": "code",
   "execution_count": 116,
   "id": "837b76e0",
   "metadata": {},
   "outputs": [],
   "source": [
    "def train_test_split(fold:pd.DataFrame,\n",
    "                     train_test_ratio: float,\n",
    "                     input_length: int) -> tuple[pd.DataFrame]:\n",
    "    '''\n",
    "    Returns a train dataframe and a test dataframe (fold_train, fold_test)\n",
    "    from which one can sample (X,y) sequences.\n",
    "    df_train should contain all the timesteps until round(train_test_ratio * len(fold))   \n",
    "    '''\n",
    "    fold_train = fold[0: round(train_test_ratio * len(fold))]\n",
    "    fold_test = fold[round(train_test_ratio * len(fold)) - input_length:]\n",
    "    \n",
    "    return fold_train, fold_test"
   ]
  },
  {
   "cell_type": "code",
   "execution_count": 117,
   "id": "d85cc60c",
   "metadata": {},
   "outputs": [],
   "source": [
    "(fold_train, fold_test) = train_test_split(fold, TRAIN_TEST_RATIO, INPUT_LENGTH)"
   ]
  },
  {
   "cell_type": "code",
   "execution_count": 118,
   "id": "d157f6c7",
   "metadata": {
    "scrolled": true
   },
   "outputs": [
    {
     "name": "stdout",
     "output_type": "stream",
     "text": [
      "Each fold has a shape equal to (1095, 6).\n",
      "Each fold_train has a shape equal to (723, 6).\n",
      "Each fold_test has a shape equal to (386, 6).\n"
     ]
    }
   ],
   "source": [
    "print(f'Each fold has a shape equal to {fold.shape}.')\n",
    "print(f'Each fold_train has a shape equal to {fold_train.shape}.')\n",
    "print(f'Each fold_test has a shape equal to {fold_test.shape}.')"
   ]
  },
  {
   "cell_type": "markdown",
   "id": "566bfbbe",
   "metadata": {},
   "source": [
    "### Create (X, y) sequences"
   ]
  },
  {
   "cell_type": "markdown",
   "id": "56dfd93b",
   "metadata": {},
   "source": [
    "Now that we have splitted our fold into a train set and a test set, it is time to:\n",
    "\n",
    "- sample lots of sequences (Xi,yi) on which the model will be trained\n",
    "- sample lots of sequences (Xi,yi)on which the model will be evaluated"
   ]
  },
  {
   "cell_type": "markdown",
   "id": "ab8f6b77",
   "metadata": {},
   "source": [
    "Our goal is to create 3D-arrays (X_train, y_train) and (X_test, y_test) containing all the SEQUENCES we need from this fold:\n",
    "\n",
    "- X_train.shape = (n_samples_train, input_length, n_features)\n",
    "- y_train.shape = (n_samples_train, output_length, n_targets)"
   ]
  },
  {
   "cell_type": "code",
   "execution_count": 119,
   "id": "06d378bc",
   "metadata": {},
   "outputs": [
    {
     "name": "stdout",
     "output_type": "stream",
     "text": [
      "N_FEATURES = 5\n",
      "INPUT_LENGTH = 14 days = 2 weeks\n"
     ]
    }
   ],
   "source": [
    "# INPUT X\n",
    "print(f'N_FEATURES = {N_FEATURES}')\n",
    "print(f'INPUT_LENGTH = {INPUT_LENGTH} days = {int(INPUT_LENGTH/7)} weeks')"
   ]
  },
  {
   "cell_type": "markdown",
   "id": "12c8d8c9",
   "metadata": {},
   "source": [
    "X is the input of our model.\n",
    "\n",
    "- It contains 5 features: the past values of the target + 4 past-covariates\n",
    "- Each sequence has a length equal to 2 weeks"
   ]
  },
  {
   "cell_type": "code",
   "execution_count": 120,
   "id": "28b000c9",
   "metadata": {},
   "outputs": [
    {
     "name": "stdout",
     "output_type": "stream",
     "text": [
      "N_TARGETS = 1\n",
      "OUTPUT_LENGTH = 1\n"
     ]
    }
   ],
   "source": [
    "# TARGET Y\n",
    "print(f'N_TARGETS = {N_TARGETS}')\n",
    "\n",
    "# Let's only predict 1 value ahead of us\n",
    "OUTPUT_LENGTH = 1\n",
    "print(f'OUTPUT_LENGTH = {OUTPUT_LENGTH}')"
   ]
  },
  {
   "cell_type": "markdown",
   "id": "bddff8a7",
   "metadata": {},
   "source": [
    "y is the target that we want to predict\n",
    "\n",
    "- It is the value at the single next timestep (= next day)\n",
    " - We could also predict OUTPUT_LENGTH > 1, i.e several values in the future (2, 3 days later,...) but let's keep it simple here and just try to predict the next point (next day)"
   ]
  },
  {
   "cell_type": "markdown",
   "id": "0218f766",
   "metadata": {},
   "source": [
    "### Creating the (X,y) sequences by random sampling in each fold"
   ]
  },
  {
   "cell_type": "markdown",
   "id": "158fba71",
   "metadata": {},
   "source": [
    "Generating one random sequence"
   ]
  },
  {
   "cell_type": "code",
   "execution_count": 121,
   "id": "84603c98",
   "metadata": {},
   "outputs": [],
   "source": [
    "def get_Xi_yi(\n",
    "    fold:pd.DataFrame, \n",
    "    input_length:int, \n",
    "    output_length:int):\n",
    "    '''\n",
    "    - given a fold, it returns one sequence (X_i, y_i)\n",
    "    - with the starting point of the sequence being chosen at random\n",
    "    '''\n",
    "    first_possible_start = 0\n",
    "    last_possible_start = len(fold) - (input_length + output_length) + 1\n",
    "    random_start = np.random.randint(first_possible_start, last_possible_start)\n",
    "    X_i = fold.iloc[random_start:random_start+input_length]    \n",
    "    y_i = fold.iloc[random_start+input_length:\n",
    "                  random_start+input_length+output_length][[TARGET]]\n",
    "    \n",
    "    return (X_i, y_i)"
   ]
  },
  {
   "cell_type": "code",
   "execution_count": 122,
   "id": "7cbe02d8",
   "metadata": {},
   "outputs": [],
   "source": [
    "X_train_i, y_train_i = get_Xi_yi(fold_train, INPUT_LENGTH, OUTPUT_LENGTH)\n",
    "X_test_i, y_test_i = get_Xi_yi(fold_test, INPUT_LENGTH, OUTPUT_LENGTH)"
   ]
  },
  {
   "cell_type": "code",
   "execution_count": 124,
   "id": "c68a7b71",
   "metadata": {},
   "outputs": [
    {
     "data": {
      "text/plain": [
       "(14, 6)"
      ]
     },
     "execution_count": 124,
     "metadata": {},
     "output_type": "execute_result"
    }
   ],
   "source": [
    "X_train_i.shape"
   ]
  },
  {
   "cell_type": "code",
   "execution_count": 125,
   "id": "6c6fc4bf",
   "metadata": {},
   "outputs": [],
   "source": [
    "# Advanced check 😈 \n",
    "# You should not allow some truncated (X_i,y_i) pairs to be generating,\n",
    "# should you start sampling too close from the end of the fold... !\n",
    "\n",
    "X_last, y_last = get_Xi_yi(fold_test, input_length=len(fold_test)-1, output_length=OUTPUT_LENGTH)\n",
    "assert y_last.values == fold_test.iloc[-1,:][TARGET]"
   ]
  },
  {
   "cell_type": "markdown",
   "id": "73b8ad69",
   "metadata": {},
   "source": [
    "Generating multiple random sequence"
   ]
  },
  {
   "cell_type": "code",
   "execution_count": 126,
   "id": "f6cf9c83",
   "metadata": {},
   "outputs": [],
   "source": [
    "def get_X_y(\n",
    "    fold:pd.DataFrame,\n",
    "    number_of_sequences:int,\n",
    "    input_length:int,\n",
    "    output_length:int\n",
    "):\n",
    "    X, y = [], []\n",
    "\n",
    "    for i in range(number_of_sequences):\n",
    "        (Xi, yi) = get_Xi_yi(fold, input_length, output_length)\n",
    "        X.append(Xi)\n",
    "        y.append(yi)\n",
    "        \n",
    "    return np.array(X), np.array(y)"
   ]
  },
  {
   "cell_type": "code",
   "execution_count": 127,
   "id": "d59fb510",
   "metadata": {},
   "outputs": [],
   "source": [
    "N_TRAIN = 6666 # number_of_sequences_train\n",
    "N_TEST =  3333 # number_of_sequences_test\n",
    "\n",
    "X_train, y_train = get_X_y(fold_train, N_TRAIN, INPUT_LENGTH, OUTPUT_LENGTH)\n",
    "X_test, y_test = get_X_y(fold_test, N_TEST, INPUT_LENGTH, OUTPUT_LENGTH)"
   ]
  },
  {
   "cell_type": "markdown",
   "id": "13a3c781",
   "metadata": {},
   "source": [
    "## Modeling"
   ]
  },
  {
   "cell_type": "markdown",
   "id": "24079e59",
   "metadata": {},
   "source": [
    "## Exporting model"
   ]
  },
  {
   "cell_type": "code",
   "execution_count": 157,
   "id": "90e8c644",
   "metadata": {},
   "outputs": [
    {
     "data": {
      "text/plain": [
       "0.17962516068093193"
      ]
     },
     "execution_count": 157,
     "metadata": {},
     "output_type": "execute_result"
    }
   ],
   "source": [
    "import pickle\n",
    "\n",
    "# Export Baseline Model as pickle file\n",
    "with open(\"baseline_model.pkl\", \"wb\") as file:\n",
    "    pickle.dump(baseline_model, file)\n",
    "\n",
    "# Load Baseline Model from pickle file\n",
    "my_model = pickle.load(open(\"baseline_model.pkl\",\"rb\"))\n",
    "\n",
    "my_model.score(X_test_drop, y_test)"
   ]
  },
  {
   "cell_type": "code",
   "execution_count": null,
   "id": "8935ead8",
   "metadata": {},
   "outputs": [],
   "source": []
  }
 ],
 "metadata": {
  "kernelspec": {
   "display_name": "Python 3 (ipykernel)",
   "language": "python",
   "name": "python3"
  },
  "language_info": {
   "codemirror_mode": {
    "name": "ipython",
    "version": 3
   },
   "file_extension": ".py",
   "mimetype": "text/x-python",
   "name": "python",
   "nbconvert_exporter": "python",
   "pygments_lexer": "ipython3",
   "version": "3.10.6"
  },
  "toc": {
   "base_numbering": 1,
   "nav_menu": {},
   "number_sections": true,
   "sideBar": true,
   "skip_h1_title": false,
   "title_cell": "Table of Contents",
   "title_sidebar": "Contents",
   "toc_cell": false,
   "toc_position": {},
   "toc_section_display": true,
   "toc_window_display": false
  }
 },
 "nbformat": 4,
 "nbformat_minor": 5
}
